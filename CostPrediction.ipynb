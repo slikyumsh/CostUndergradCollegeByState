{
 "cells": [
  {
   "cell_type": "code",
   "execution_count": 97,
   "metadata": {
    "collapsed": true,
    "pycharm": {
     "name": "#%%\n"
    }
   },
   "outputs": [],
   "source": [
    "import numpy as np\n",
    "import pandas as pd\n",
    "import os\n",
    "import matplotlib.pyplot as plt\n",
    "from tqdm import tqdm\n",
    "from sklearn.model_selection import train_test_split\n",
    "from sklearn.model_selection import KFold\n",
    "from catboost import CatBoostRegressor, Pool\n",
    "from sklearn.metrics import mean_absolute_error, mean_squared_error"
   ]
  },
  {
   "cell_type": "code",
   "execution_count": 98,
   "outputs": [
    {
     "data": {
      "text/plain": "      Year    State                 Type  Length       Expense  Value\n0     2013  Alabama              Private  4-year  Fees/Tuition  13983\n1     2013  Alabama              Private  4-year    Room/Board   8503\n2     2013  Alabama      Public In-State  2-year  Fees/Tuition   4048\n3     2013  Alabama      Public In-State  4-year  Fees/Tuition   8073\n4     2013  Alabama      Public In-State  4-year    Room/Board   8473\n...    ...      ...                  ...     ...           ...    ...\n3543  2021  Wyoming      Public In-State  2-year  Fees/Tuition   3987\n3544  2021  Wyoming      Public In-State  4-year    Room/Board   9799\n3545  2021  Wyoming  Public Out-of-State  2-year  Fees/Tuition   9820\n3546  2021  Wyoming  Public Out-of-State  4-year  Fees/Tuition  14710\n3547  2021  Wyoming  Public Out-of-State  4-year    Room/Board   9799\n\n[3548 rows x 6 columns]",
      "text/html": "<div>\n<style scoped>\n    .dataframe tbody tr th:only-of-type {\n        vertical-align: middle;\n    }\n\n    .dataframe tbody tr th {\n        vertical-align: top;\n    }\n\n    .dataframe thead th {\n        text-align: right;\n    }\n</style>\n<table border=\"1\" class=\"dataframe\">\n  <thead>\n    <tr style=\"text-align: right;\">\n      <th></th>\n      <th>Year</th>\n      <th>State</th>\n      <th>Type</th>\n      <th>Length</th>\n      <th>Expense</th>\n      <th>Value</th>\n    </tr>\n  </thead>\n  <tbody>\n    <tr>\n      <th>0</th>\n      <td>2013</td>\n      <td>Alabama</td>\n      <td>Private</td>\n      <td>4-year</td>\n      <td>Fees/Tuition</td>\n      <td>13983</td>\n    </tr>\n    <tr>\n      <th>1</th>\n      <td>2013</td>\n      <td>Alabama</td>\n      <td>Private</td>\n      <td>4-year</td>\n      <td>Room/Board</td>\n      <td>8503</td>\n    </tr>\n    <tr>\n      <th>2</th>\n      <td>2013</td>\n      <td>Alabama</td>\n      <td>Public In-State</td>\n      <td>2-year</td>\n      <td>Fees/Tuition</td>\n      <td>4048</td>\n    </tr>\n    <tr>\n      <th>3</th>\n      <td>2013</td>\n      <td>Alabama</td>\n      <td>Public In-State</td>\n      <td>4-year</td>\n      <td>Fees/Tuition</td>\n      <td>8073</td>\n    </tr>\n    <tr>\n      <th>4</th>\n      <td>2013</td>\n      <td>Alabama</td>\n      <td>Public In-State</td>\n      <td>4-year</td>\n      <td>Room/Board</td>\n      <td>8473</td>\n    </tr>\n    <tr>\n      <th>...</th>\n      <td>...</td>\n      <td>...</td>\n      <td>...</td>\n      <td>...</td>\n      <td>...</td>\n      <td>...</td>\n    </tr>\n    <tr>\n      <th>3543</th>\n      <td>2021</td>\n      <td>Wyoming</td>\n      <td>Public In-State</td>\n      <td>2-year</td>\n      <td>Fees/Tuition</td>\n      <td>3987</td>\n    </tr>\n    <tr>\n      <th>3544</th>\n      <td>2021</td>\n      <td>Wyoming</td>\n      <td>Public In-State</td>\n      <td>4-year</td>\n      <td>Room/Board</td>\n      <td>9799</td>\n    </tr>\n    <tr>\n      <th>3545</th>\n      <td>2021</td>\n      <td>Wyoming</td>\n      <td>Public Out-of-State</td>\n      <td>2-year</td>\n      <td>Fees/Tuition</td>\n      <td>9820</td>\n    </tr>\n    <tr>\n      <th>3546</th>\n      <td>2021</td>\n      <td>Wyoming</td>\n      <td>Public Out-of-State</td>\n      <td>4-year</td>\n      <td>Fees/Tuition</td>\n      <td>14710</td>\n    </tr>\n    <tr>\n      <th>3547</th>\n      <td>2021</td>\n      <td>Wyoming</td>\n      <td>Public Out-of-State</td>\n      <td>4-year</td>\n      <td>Room/Board</td>\n      <td>9799</td>\n    </tr>\n  </tbody>\n</table>\n<p>3548 rows × 6 columns</p>\n</div>"
     },
     "execution_count": 98,
     "metadata": {},
     "output_type": "execute_result"
    }
   ],
   "source": [
    "df = pd.read_csv(\"data/nces330_20.csv\")\n",
    "df"
   ],
   "metadata": {
    "collapsed": false,
    "pycharm": {
     "name": "#%%\n"
    }
   }
  },
  {
   "cell_type": "code",
   "execution_count": 99,
   "outputs": [
    {
     "data": {
      "text/plain": "         Year    Value\ncount 3548.00  3548.00\nmean  2016.92 13027.72\nstd      2.55  8734.57\nmin   2013.00  1225.00\n25%   2015.00  7756.75\n50%   2017.00 10203.50\n75%   2019.00 14830.75\nmax   2021.00 49152.00",
      "text/html": "<div>\n<style scoped>\n    .dataframe tbody tr th:only-of-type {\n        vertical-align: middle;\n    }\n\n    .dataframe tbody tr th {\n        vertical-align: top;\n    }\n\n    .dataframe thead th {\n        text-align: right;\n    }\n</style>\n<table border=\"1\" class=\"dataframe\">\n  <thead>\n    <tr style=\"text-align: right;\">\n      <th></th>\n      <th>Year</th>\n      <th>Value</th>\n    </tr>\n  </thead>\n  <tbody>\n    <tr>\n      <th>count</th>\n      <td>3548.00</td>\n      <td>3548.00</td>\n    </tr>\n    <tr>\n      <th>mean</th>\n      <td>2016.92</td>\n      <td>13027.72</td>\n    </tr>\n    <tr>\n      <th>std</th>\n      <td>2.55</td>\n      <td>8734.57</td>\n    </tr>\n    <tr>\n      <th>min</th>\n      <td>2013.00</td>\n      <td>1225.00</td>\n    </tr>\n    <tr>\n      <th>25%</th>\n      <td>2015.00</td>\n      <td>7756.75</td>\n    </tr>\n    <tr>\n      <th>50%</th>\n      <td>2017.00</td>\n      <td>10203.50</td>\n    </tr>\n    <tr>\n      <th>75%</th>\n      <td>2019.00</td>\n      <td>14830.75</td>\n    </tr>\n    <tr>\n      <th>max</th>\n      <td>2021.00</td>\n      <td>49152.00</td>\n    </tr>\n  </tbody>\n</table>\n</div>"
     },
     "execution_count": 99,
     "metadata": {},
     "output_type": "execute_result"
    }
   ],
   "source": [
    "df.describe()"
   ],
   "metadata": {
    "collapsed": false,
    "pycharm": {
     "name": "#%%\n"
    }
   }
  },
  {
   "cell_type": "code",
   "execution_count": 100,
   "outputs": [
    {
     "name": "stdout",
     "output_type": "stream",
     "text": [
      "<class 'pandas.core.frame.DataFrame'>\n",
      "RangeIndex: 3548 entries, 0 to 3547\n",
      "Data columns (total 6 columns):\n",
      " #   Column   Non-Null Count  Dtype \n",
      "---  ------   --------------  ----- \n",
      " 0   Year     3548 non-null   int64 \n",
      " 1   State    3548 non-null   object\n",
      " 2   Type     3548 non-null   object\n",
      " 3   Length   3548 non-null   object\n",
      " 4   Expense  3548 non-null   object\n",
      " 5   Value    3548 non-null   int64 \n",
      "dtypes: int64(2), object(4)\n",
      "memory usage: 166.4+ KB\n"
     ]
    }
   ],
   "source": [
    "df.info()"
   ],
   "metadata": {
    "collapsed": false,
    "pycharm": {
     "name": "#%%\n"
    }
   }
  },
  {
   "cell_type": "code",
   "execution_count": 101,
   "outputs": [
    {
     "data": {
      "text/plain": "      Year  State  Type  Length  Expense  Value\n0     2013      0     0       1        0  13983\n1     2013      0     0       1        1   8503\n2     2013      0     1       0        0   4048\n3     2013      0     1       1        0   8073\n4     2013      0     1       1        1   8473\n...    ...    ...   ...     ...      ...    ...\n3543  2021     50     1       0        0   3987\n3544  2021     50     1       1        1   9799\n3545  2021     50     2       0        0   9820\n3546  2021     50     2       1        0  14710\n3547  2021     50     2       1        1   9799\n\n[3548 rows x 6 columns]",
      "text/html": "<div>\n<style scoped>\n    .dataframe tbody tr th:only-of-type {\n        vertical-align: middle;\n    }\n\n    .dataframe tbody tr th {\n        vertical-align: top;\n    }\n\n    .dataframe thead th {\n        text-align: right;\n    }\n</style>\n<table border=\"1\" class=\"dataframe\">\n  <thead>\n    <tr style=\"text-align: right;\">\n      <th></th>\n      <th>Year</th>\n      <th>State</th>\n      <th>Type</th>\n      <th>Length</th>\n      <th>Expense</th>\n      <th>Value</th>\n    </tr>\n  </thead>\n  <tbody>\n    <tr>\n      <th>0</th>\n      <td>2013</td>\n      <td>0</td>\n      <td>0</td>\n      <td>1</td>\n      <td>0</td>\n      <td>13983</td>\n    </tr>\n    <tr>\n      <th>1</th>\n      <td>2013</td>\n      <td>0</td>\n      <td>0</td>\n      <td>1</td>\n      <td>1</td>\n      <td>8503</td>\n    </tr>\n    <tr>\n      <th>2</th>\n      <td>2013</td>\n      <td>0</td>\n      <td>1</td>\n      <td>0</td>\n      <td>0</td>\n      <td>4048</td>\n    </tr>\n    <tr>\n      <th>3</th>\n      <td>2013</td>\n      <td>0</td>\n      <td>1</td>\n      <td>1</td>\n      <td>0</td>\n      <td>8073</td>\n    </tr>\n    <tr>\n      <th>4</th>\n      <td>2013</td>\n      <td>0</td>\n      <td>1</td>\n      <td>1</td>\n      <td>1</td>\n      <td>8473</td>\n    </tr>\n    <tr>\n      <th>...</th>\n      <td>...</td>\n      <td>...</td>\n      <td>...</td>\n      <td>...</td>\n      <td>...</td>\n      <td>...</td>\n    </tr>\n    <tr>\n      <th>3543</th>\n      <td>2021</td>\n      <td>50</td>\n      <td>1</td>\n      <td>0</td>\n      <td>0</td>\n      <td>3987</td>\n    </tr>\n    <tr>\n      <th>3544</th>\n      <td>2021</td>\n      <td>50</td>\n      <td>1</td>\n      <td>1</td>\n      <td>1</td>\n      <td>9799</td>\n    </tr>\n    <tr>\n      <th>3545</th>\n      <td>2021</td>\n      <td>50</td>\n      <td>2</td>\n      <td>0</td>\n      <td>0</td>\n      <td>9820</td>\n    </tr>\n    <tr>\n      <th>3546</th>\n      <td>2021</td>\n      <td>50</td>\n      <td>2</td>\n      <td>1</td>\n      <td>0</td>\n      <td>14710</td>\n    </tr>\n    <tr>\n      <th>3547</th>\n      <td>2021</td>\n      <td>50</td>\n      <td>2</td>\n      <td>1</td>\n      <td>1</td>\n      <td>9799</td>\n    </tr>\n  </tbody>\n</table>\n<p>3548 rows × 6 columns</p>\n</div>"
     },
     "execution_count": 101,
     "metadata": {},
     "output_type": "execute_result"
    }
   ],
   "source": [
    "from sklearn.preprocessing import LabelEncoder\n",
    "labelencoder = LabelEncoder()\n",
    "df[\"State\"] = labelencoder.fit_transform(df.State)\n",
    "df[\"Type\"] = labelencoder.fit_transform(df.Type)\n",
    "df[\"Length\"] = labelencoder.fit_transform(df.Length)\n",
    "df[\"Expense\"] = labelencoder.fit_transform(df.Expense)\n",
    "df"
   ],
   "metadata": {
    "collapsed": false,
    "pycharm": {
     "name": "#%%\n"
    }
   }
  },
  {
   "cell_type": "code",
   "execution_count": 102,
   "outputs": [],
   "source": [
    "copy_df = df"
   ],
   "metadata": {
    "collapsed": false,
    "pycharm": {
     "name": "#%%\n"
    }
   }
  },
  {
   "cell_type": "code",
   "execution_count": 103,
   "outputs": [],
   "source": [
    "y = df.Value\n",
    "df = df.drop(labels=\"Value\", axis=1)\n",
    "X = df"
   ],
   "metadata": {
    "collapsed": false,
    "pycharm": {
     "name": "#%%\n"
    }
   }
  },
  {
   "cell_type": "code",
   "source": [
    "from sklearn.preprocessing import MinMaxScaler"
   ],
   "metadata": {
    "collapsed": false,
    "pycharm": {
     "name": "#%%\n"
    }
   },
   "execution_count": 104,
   "outputs": []
  },
  {
   "cell_type": "code",
   "execution_count": 105,
   "outputs": [
    {
     "data": {
      "text/plain": "array([[0. , 0. , 0. , 1. , 0. ],\n       [0. , 0. , 0. , 1. , 1. ],\n       [0. , 0. , 0.5, 0. , 0. ],\n       ...,\n       [1. , 1. , 1. , 0. , 0. ],\n       [1. , 1. , 1. , 1. , 0. ],\n       [1. , 1. , 1. , 1. , 1. ]])"
     },
     "execution_count": 105,
     "metadata": {},
     "output_type": "execute_result"
    }
   ],
   "source": [
    "scaler = MinMaxScaler()\n",
    "X = scaler.fit_transform(X)\n",
    "X"
   ],
   "metadata": {
    "collapsed": false,
    "pycharm": {
     "name": "#%%\n"
    }
   }
  },
  {
   "cell_type": "code",
   "execution_count": 106,
   "outputs": [],
   "source": [
    "from sklearn.model_selection import train_test_split\n",
    "X_train, X_test, y_train, y_test = train_test_split(X, y.values, test_size=0.2, random_state=42)"
   ],
   "metadata": {
    "collapsed": false,
    "pycharm": {
     "name": "#%%\n"
    }
   }
  },
  {
   "cell_type": "code",
   "execution_count": 107,
   "outputs": [
    {
     "data": {
      "text/plain": "<catboost.core.CatBoostRegressor at 0x230cb6d4b50>"
     },
     "execution_count": 107,
     "metadata": {},
     "output_type": "execute_result"
    }
   ],
   "source": [
    "clf = CatBoostRegressor(loss_function='MAPE')\n",
    "train_dataset = Pool(data=X_train,\n",
    "                     label=y_train,\n",
    "                     )\n",
    "eval_dataset = Pool(data=X_test,\n",
    "                    label=y_test,\n",
    "                    )\n",
    "clf.fit(train_dataset,\n",
    "          use_best_model=True,\n",
    "          verbose = 0,\n",
    "          eval_set=eval_dataset)"
   ],
   "metadata": {
    "collapsed": false,
    "pycharm": {
     "name": "#%%\n"
    }
   }
  },
  {
   "cell_type": "code",
   "execution_count": 108,
   "outputs": [],
   "source": [
    "def mape(y_true, y_pred):\n",
    "    return np.mean(np.abs((y_pred-y_true)/y_true))"
   ],
   "metadata": {
    "collapsed": false,
    "pycharm": {
     "name": "#%%\n"
    }
   }
  },
  {
   "cell_type": "code",
   "execution_count": 109,
   "outputs": [
    {
     "name": "stdout",
     "output_type": "stream",
     "text": [
      "MAPE: 0.30927351920087615\n",
      "MAE: 4422.312399886303\n",
      "RMSE: 7560.998396331738\n"
     ]
    }
   ],
   "source": [
    "y_pred = clf.predict(Pool(data=X_test))\n",
    "\n",
    "print(f\"MAPE: {mape(y_test, y_pred)}\")\n",
    "print(f\"MAE: {mean_absolute_error(y_test, y_pred)}\")\n",
    "print(f\"RMSE: {np.sqrt(mean_squared_error(y_test, y_pred))}\")"
   ],
   "metadata": {
    "collapsed": false,
    "pycharm": {
     "name": "#%%\n"
    }
   }
  },
  {
   "cell_type": "code",
   "execution_count": 110,
   "outputs": [
    {
     "name": "stdout",
     "output_type": "stream",
     "text": [
      "fold: 0, MAPE: 0.07314617559464659\n",
      "fold: 0, MAE: 755.8044311116089\n",
      "fold: 0, RMSE: 1173.4791513629434\n",
      "fold: 1, MAPE: 0.06916747129106728\n",
      "fold: 1, MAE: 695.944955018769\n",
      "fold: 1, RMSE: 983.5708160171162\n",
      "fold: 2, MAPE: 0.06323949931491434\n",
      "fold: 2, MAE: 641.2114850335753\n",
      "fold: 2, RMSE: 917.4923732577126\n",
      "fold: 3, MAPE: 0.0656532572899688\n",
      "fold: 3, MAE: 668.7772716267349\n",
      "fold: 3, RMSE: 978.1642304999854\n",
      "fold: 4, MAPE: 0.06380382268102135\n",
      "fold: 4, MAE: 647.219385930652\n",
      "fold: 4, RMSE: 932.2904183646397\n",
      "fold: 5, MAPE: 0.0629676299626333\n",
      "fold: 5, MAE: 645.8948969005404\n",
      "fold: 5, RMSE: 972.200867859984\n",
      "fold: 6, MAPE: 0.06557494855790183\n",
      "fold: 6, MAE: 664.1155256494832\n",
      "fold: 6, RMSE: 952.563253692791\n",
      "fold: 7, MAPE: 0.06358632918893609\n",
      "fold: 7, MAE: 651.3089005048217\n",
      "fold: 7, RMSE: 920.2479470910454\n",
      "CV mean MAPE:  0.0659, std: 0.0033.\n",
      "CV mean MAE: 671.2846, std: 35.9455.\n",
      "CV mean RMSE: 978.7511, std: 77.4638.\n"
     ]
    }
   ],
   "source": [
    "n_fold = 8\n",
    "cv = KFold(n_splits=n_fold, shuffle=True, random_state=42)\n",
    "mape_, mae, rmse = [], [], []\n",
    "\n",
    "params = {\n",
    "            'iterations':1000,\n",
    "            'learning_rate':0.1,\n",
    "            'depth':5,\n",
    "            'eval_metric':'MAPE'\n",
    "}\n",
    "\n",
    "y = copy_df.Value\n",
    "copy_df = copy_df.drop(labels=\"Value\", axis=1)\n",
    "X = df\n",
    "X = scaler.fit_transform(X)\n",
    "X = pd.DataFrame(X)\n",
    "\n",
    "for fold, (train_index, val_index) in enumerate(cv.split(X)):\n",
    "    X_train = X.iloc[train_index,:]\n",
    "    X_val = X.iloc[val_index,:]\n",
    "\n",
    "    y_train = y.iloc[train_index]\n",
    "    y_val = y.iloc[val_index]\n",
    "\n",
    "    clf = CatBoostRegressor(**params)\n",
    "\n",
    "    train_dataset = Pool(data=X_train,\n",
    "                     label=y_train,\n",
    "                     )\n",
    "\n",
    "    eval_dataset = Pool(data=X_test,\n",
    "                    label=y_test,\n",
    "                    )\n",
    "\n",
    "    clf.fit(train_dataset,\n",
    "              use_best_model=True,\n",
    "              verbose = 0,\n",
    "              eval_set=eval_dataset)\n",
    "\n",
    "    y_pred = clf.predict(Pool(data=X_test))\n",
    "\n",
    "    mape_.append(mape(y_test, y_pred))\n",
    "    mae.append(mean_absolute_error(y_test, y_pred))\n",
    "    rmse.append(np.sqrt(mean_squared_error(y_test, y_pred)))\n",
    "\n",
    "    print(f\"fold: {fold}, MAPE: {mape(y_test, y_pred)}\")\n",
    "    print(f\"fold: {fold}, MAE: {mean_absolute_error(y_test, y_pred)}\")\n",
    "    print(f\"fold: {fold}, RMSE: {np.sqrt(mean_squared_error(y_test, y_pred))}\")\n",
    "\n",
    "print('CV mean MAPE:  {0:.4f}, std: {1:.4f}.'.format(np.mean(mape_), np.std(mape_)))\n",
    "print('CV mean MAE: {0:.4f}, std: {1:.4f}.'.format(np.mean(mae), np.std(mae)))\n",
    "print('CV mean RMSE: {0:.4f}, std: {1:.4f}.'.format(np.mean(rmse), np.std(rmse)))"
   ],
   "metadata": {
    "collapsed": false,
    "pycharm": {
     "name": "#%%\n"
    }
   }
  },
  {
   "cell_type": "markdown",
   "source": [
    "The mean absolute percentage error (MAPE), also known as mean absolute percentage deviation (MAPD), is a measure of prediction accuracy of a forecasting method in statistics. It usually expresses the accuracy as a ratio defined by the formula:\n",
    "\n",
    "![test](images/15cea473-431c-40c8-8e75-73d0f6e15dd1.png))"
   ],
   "metadata": {
    "collapsed": false,
    "pycharm": {
     "name": "#%% md\n"
    }
   }
  },
  {
   "cell_type": "markdown",
   "source": [
    "# Final Results\n",
    "\n",
    "CV mean MAPE:  0.0659, std: 0.0033.\n",
    "CV mean MAE: 671.2846, std: 35.9455.\n",
    "CV mean RMSE: 978.7511, std: 77.4638.\n",
    "\n",
    "These are very good results, since the MAPE metric was approximately 6.5%."
   ],
   "metadata": {
    "collapsed": false,
    "pycharm": {
     "name": "#%% md\n"
    }
   }
  }
 ],
 "metadata": {
  "kernelspec": {
   "display_name": "Python 3",
   "language": "python",
   "name": "python3"
  },
  "language_info": {
   "codemirror_mode": {
    "name": "ipython",
    "version": 2
   },
   "file_extension": ".py",
   "mimetype": "text/x-python",
   "name": "python",
   "nbconvert_exporter": "python",
   "pygments_lexer": "ipython2",
   "version": "2.7.6"
  }
 },
 "nbformat": 4,
 "nbformat_minor": 0
}